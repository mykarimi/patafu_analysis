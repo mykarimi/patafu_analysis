{
 "cells": [
  {
   "cell_type": "code",
   "execution_count": null,
   "metadata": {
    "collapsed": false
   },
   "outputs": [],
   "source": [
    "import numpy as np\n",
    "import pandas as pd\n",
    "import matplotlib as mpl\n",
    "import matplotlib.pyplot as plt\n",
    "import seaborn as sns\n",
    "from mpl_toolkits.mplot3d import Axes3D\n",
    "from matplotlib import cm"
   ]
  },
  {
   "cell_type": "code",
   "execution_count": null,
   "metadata": {
    "collapsed": false
   },
   "outputs": [],
   "source": [
    "semrole = sns.load_dataset(\"lm_semrole\")"
   ]
  },
  {
   "cell_type": "code",
   "execution_count": null,
   "metadata": {
    "collapsed": false
   },
   "outputs": [],
   "source": [
    "sns.set(style=\"darkgrid\", color_codes=True, font_scale=0.9)\n",
    "a_eval = semrole[semrole['Evaluation_Category'] == 'a']\n",
    "g = sns.FacetGrid(a_eval, col=\"Corpus\", row=\"Measure\", hue=\"Evaluation\", palette=\"hls\", ylim=(0,70))\n",
    "g.map(sns.stripplot, \"Semantic_Role\", \"Score\", alpha=1, jitter=True)\n",
    "g.add_legend()\n",
    "print('EVALUATION A: Evaluation of Eventsmentions from the same event in the same period')\n",
    "plt.show()"
   ]
  },
  {
   "cell_type": "code",
   "execution_count": null,
   "metadata": {
    "collapsed": false
   },
   "outputs": [],
   "source": [
    "sns.set(style=\"darkgrid\", color_codes=True, font_scale=0.9)\n",
    "b_eval = semrole[semrole['Evaluation_Category'] == 'b']\n",
    "g = sns.FacetGrid(b_eval, col=\"Corpus\", row=\"Measure\", hue=\"Evaluation\", palette=\"hls\", ylim=(0,70))\n",
    "g.map(sns.stripplot, \"Semantic_Role\", \"Score\", alpha=1, jitter=True)\n",
    "g.add_legend()\n",
    "print('EVALUATION B: comparison of eventsmentions from the period before (pre) and after (post) the same event')\n",
    "plt.show()"
   ]
  },
  {
   "cell_type": "code",
   "execution_count": null,
   "metadata": {
    "collapsed": false
   },
   "outputs": [],
   "source": [
    "sns.set(style=\"darkgrid\", color_codes=True, font_scale=0.9)\n",
    "c_eval = semrole[semrole['Evaluation_Category'] == 'c']\n",
    "g = sns.FacetGrid(c_eval, col=\"Corpus\", row=\"Measure\", hue=\"Evaluation\", palette=\"hls\", ylim=(0,70))\n",
    "g.map(sns.stripplot, \"Semantic_Role\", \"Score\", alpha=1, jitter=True)\n",
    "g.add_legend()\n",
    "print('EVALUATION C: Evaluation of eventmentions from two different events in the same period (pre or post)')\n",
    "plt.show()"
   ]
  },
  {
   "cell_type": "code",
   "execution_count": null,
   "metadata": {
    "collapsed": false
   },
   "outputs": [],
   "source": [
    "sns.set(style=\"darkgrid\", color_codes=True, font_scale=0.9)\n",
    "d_eval = semrole[semrole['Evaluation_Category'] == 'd']\n",
    "g = sns.FacetGrid(d_eval, col=\"Corpus\", row=\"Measure\", hue=\"Evaluation\", palette=\"hls\", ylim=(0,50))\n",
    "g.map(sns.stripplot, \"Semantic_Role\", \"Score\", alpha=1, jitter=True)\n",
    "g.add_legend()\n",
    "print('EVALUATION D: Evaluation of two subcorpora from different periods and different events (Event I: Pre vs Event II: Post)')\n",
    "plt.show()\n"
   ]
  },
  {
   "cell_type": "code",
   "execution_count": null,
   "metadata": {
    "collapsed": false
   },
   "outputs": [],
   "source": [
    "sns.set(style=\"darkgrid\", color_codes=True, font_scale=0.9)\n",
    "e_eval = semrole[semrole['Evaluation_Category'] == 'e']\n",
    "g = sns.FacetGrid(e_eval, col=\"Corpus\", row=\"Measure\", hue=\"Evaluation\", palette=\"hls\", ylim=(0,50))\n",
    "g.map(sns.stripplot, \"Semantic_Role\", \"Score\", alpha=1, jitter=True)\n",
    "g.add_legend()\n",
    "print('EVALUATION E: All eventmentions from all eventinstances and periods are ')\n",
    "plt.show()"
   ]
  }
 ],
 "metadata": {
  "anaconda-cloud": {},
  "kernelspec": {
   "display_name": "Python [default]",
   "language": "python",
   "name": "python3"
  },
  "language_info": {
   "codemirror_mode": {
    "name": "ipython",
    "version": 3
   },
   "file_extension": ".py",
   "mimetype": "text/x-python",
   "name": "python",
   "nbconvert_exporter": "python",
   "pygments_lexer": "ipython3",
   "version": "3.5.2"
  }
 },
 "nbformat": 4,
 "nbformat_minor": 0
}
