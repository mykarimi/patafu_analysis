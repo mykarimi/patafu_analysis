{
 "cells": [
  {
   "cell_type": "code",
   "execution_count": null,
   "metadata": {
    "collapsed": true
   },
   "outputs": [],
   "source": [
    "import numpy as np\n",
    "import pandas as pd\n",
    "import matplotlib as mpl\n",
    "import matplotlib.pyplot as plt\n",
    "import seaborn as sns\n",
    "from mpl_toolkits.mplot3d import Axes3D\n",
    "from matplotlib import cm"
   ]
  },
  {
   "cell_type": "code",
   "execution_count": null,
   "metadata": {
    "collapsed": false
   },
   "outputs": [],
   "source": [
    "benchmark = sns.load_dataset(\"benchmark\")"
   ]
  },
  {
   "cell_type": "code",
   "execution_count": null,
   "metadata": {
    "collapsed": false
   },
   "outputs": [],
   "source": [
    "benchmark_recall = benchmark[benchmark['Measure'] == 'Recall']"
   ]
  },
  {
   "cell_type": "code",
   "execution_count": null,
   "metadata": {
    "collapsed": false
   },
   "outputs": [],
   "source": [
    "benchmark_recall_sport = benchmark_recall[benchmark_recall['Corpus'] == 'Sport']\n",
    "benchmark_recall_sport_pivoted = benchmark_recall_sport.pivot_table(\"Score\", \"WSD\", \"WNSIM\")\n",
    "sns.heatmap(benchmark_recall_sport_pivoted, annot=True, robust=True, fmt=\"\", cmap=\"Greens\").invert_yaxis()\n",
    "a = plt.show()"
   ]
  },
  {
   "cell_type": "code",
   "execution_count": null,
   "metadata": {
    "collapsed": false
   },
   "outputs": [],
   "source": [
    "benchmark_recall_corporate = benchmark_recall[benchmark_recall['Corpus'] == 'Corporate']\n",
    "benchmark_recall_corporate_pivoted = benchmark_recall_corporate.pivot_table(\"Score\", \"WSD\", \"WNSIM\")\n",
    "sns.heatmap(benchmark_recall_corporate_pivoted, annot=True, robust=True, fmt=\"\", cmap=\"Greens\").invert_yaxis()\n",
    "plt.show()"
   ]
  },
  {
   "cell_type": "code",
   "execution_count": null,
   "metadata": {
    "collapsed": false
   },
   "outputs": [],
   "source": [
    "benchmark_recall_politic = benchmark_recall[benchmark_recall['Corpus'] == 'Politic']\n",
    "benchmark_recall_politic_pivoted = benchmark_recall_politic.pivot_table(\"Score\", \"WSD\", \"WNSIM\")\n",
    "sns.heatmap(benchmark_recall_politic_pivoted, annot=True, robust=True, fmt=\"\", cmap=\"Greens\").invert_yaxis()\n",
    "plt.show()"
   ]
  },
  {
   "cell_type": "code",
   "execution_count": null,
   "metadata": {
    "collapsed": true
   },
   "outputs": [],
   "source": [
    "benchmark_precision = benchmark[benchmark['Measure'] == 'Precision']"
   ]
  },
  {
   "cell_type": "code",
   "execution_count": null,
   "metadata": {
    "collapsed": false
   },
   "outputs": [],
   "source": [
    "benchmark_precision_sport = benchmark_precision[benchmark_precision['Corpus'] == 'Sport']\n",
    "benchmark_precision_sport_pivoted = benchmark_precision_sport.pivot_table(\"Score\", \"WSD\", \"WNSIM\")\n",
    "sns.heatmap(benchmark_precision_sport_pivoted, annot=True, robust=True, fmt=\"\", cmap=\"Reds\").invert_yaxis()\n",
    "plt.show()"
   ]
  },
  {
   "cell_type": "code",
   "execution_count": null,
   "metadata": {
    "collapsed": false
   },
   "outputs": [],
   "source": [
    "benchmark_precision_corporate = benchmark_precision[benchmark_precision['Corpus'] == 'Corporate']\n",
    "benchmark_precision_corporate_pivoted = benchmark_precision_corporate.pivot_table(\"Score\", \"WSD\", \"WNSIM\")\n",
    "sns.heatmap(benchmark_precision_corporate_pivoted, annot=True, robust=True, fmt=\"\", cmap=\"Reds\").invert_yaxis()\n",
    "plt.show()"
   ]
  },
  {
   "cell_type": "code",
   "execution_count": null,
   "metadata": {
    "collapsed": false
   },
   "outputs": [],
   "source": [
    "benchmark_precision_politic = benchmark_precision[benchmark_precision['Corpus'] == 'Politic']\n",
    "benchmark_precision_politic_pivoted = benchmark_precision_politic.pivot_table(\"Score\", \"WSD\", \"WNSIM\")\n",
    "sns.heatmap(benchmark_precision_politic_pivoted, annot=True, robust=True, fmt=\"\", cmap=\"Reds\").invert_yaxis()\n",
    "plt.show()"
   ]
  },
  {
   "cell_type": "code",
   "execution_count": null,
   "metadata": {
    "collapsed": true
   },
   "outputs": [],
   "source": [
    "benchmark_fmeasure = benchmark[benchmark['Measure'] == 'F-measure']"
   ]
  },
  {
   "cell_type": "code",
   "execution_count": null,
   "metadata": {
    "collapsed": false
   },
   "outputs": [],
   "source": [
    "benchmark_fmeasure_sport = benchmark_fmeasure[benchmark_fmeasure['Corpus'] == 'Sport']\n",
    "benchmark_fmeasure_sport_pivoted = benchmark_fmeasure_sport.pivot_table(\"Score\", \"WSD\", \"WNSIM\")\n",
    "sns.heatmap(benchmark_fmeasure_sport_pivoted, annot=True, robust=True, fmt=\"\", cmap=\"Blues\").invert_yaxis()\n",
    "plt.show()"
   ]
  },
  {
   "cell_type": "code",
   "execution_count": null,
   "metadata": {
    "collapsed": false
   },
   "outputs": [],
   "source": [
    "benchmark_fmeasure_corporate = benchmark_fmeasure[benchmark_fmeasure['Corpus'] == 'Corporate']\n",
    "benchmark_fmeasure_corporate_pivoted = benchmark_fmeasure_corporate.pivot_table(\"Score\", \"WSD\", \"WNSIM\")\n",
    "sns.heatmap(benchmark_fmeasure_corporate_pivoted, annot=True, robust=True, fmt=\"\", cmap=\"Blues\").invert_yaxis()\n",
    "plt.show()"
   ]
  },
  {
   "cell_type": "code",
   "execution_count": null,
   "metadata": {
    "collapsed": false
   },
   "outputs": [],
   "source": [
    "benchmark_fmeasure_politic = benchmark_fmeasure[benchmark_fmeasure['Corpus'] == 'Politic']\n",
    "benchmark_fmeasure_politic_pivoted = benchmark_fmeasure_politic.pivot_table(\"Score\", \"WSD\", \"WNSIM\")\n",
    "sns.heatmap(benchmark_fmeasure_politic_pivoted, annot=True, robust=True, fmt=\"\", cmap=\"Blues\").invert_yaxis()\n",
    "plt.show()"
   ]
  },
  {
   "cell_type": "code",
   "execution_count": null,
   "metadata": {
    "collapsed": true
   },
   "outputs": [],
   "source": []
  }
 ],
 "metadata": {
  "anaconda-cloud": {},
  "kernelspec": {
   "display_name": "Python [default]",
   "language": "python",
   "name": "python3"
  },
  "language_info": {
   "codemirror_mode": {
    "name": "ipython",
    "version": 3
   },
   "file_extension": ".py",
   "mimetype": "text/x-python",
   "name": "python",
   "nbconvert_exporter": "python",
   "pygments_lexer": "ipython3",
   "version": "3.5.2"
  }
 },
 "nbformat": 4,
 "nbformat_minor": 0
}
